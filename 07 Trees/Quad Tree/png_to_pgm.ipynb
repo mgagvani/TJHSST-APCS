{
 "cells": [
  {
   "cell_type": "code",
   "execution_count": 5,
   "metadata": {},
   "outputs": [],
   "source": [
    "import cv2\n",
    "import matplotlib.pyplot as plt\n",
    "import numpy as np"
   ]
  },
  {
   "cell_type": "code",
   "execution_count": 6,
   "metadata": {},
   "outputs": [
    {
     "data": {
      "text/plain": [
       "<matplotlib.image.AxesImage at 0x1e5fbd15e50>"
      ]
     },
     "execution_count": 6,
     "metadata": {},
     "output_type": "execute_result"
    },
    {
     "data": {
      "image/png": "[encoded data removed]",
      "text/plain": [
       "<Figure size 432x288 with 1 Axes>"
      ]
     },
     "metadata": {
      "needs_background": "light"
     },
     "output_type": "display_data"
    }
   ],
   "source": [
    "# CONVENTIONS\n",
    "\"\"\"\n",
    "White - Free Space - 0\n",
    "Red   - Start      - 1\n",
    "Green - End        - 2\n",
    "Blue  - Block      - 3\n",
    "\"\"\"\n",
    "rgb_image = cv2.cvtColor(cv2.imread(\"maze1.png\"), cv2.COLOR_BGR2RGB)\n",
    "plt.imshow(rgb_image)"
   ]
  },
  {
   "cell_type": "code",
   "execution_count": 12,
   "metadata": {},
   "outputs": [
    {
     "name": "stdout",
     "output_type": "stream",
     "text": [
      "End index: 8, 39\n",
      "Start index: 43, 6\n"
     ]
    }
   ],
   "source": [
    "start_index = None\n",
    "end_index = None\n",
    "block_indices = []\n",
    "free_indices = []\n",
    "for i, row in enumerate(rgb_image):\n",
    "    for j, pixel in enumerate(row):\n",
    "        if tuple(pixel) == (255, 0, 0):\n",
    "            print(f\"Start index: {i}, {j}\")\n",
    "            start_index = (i,j)\n",
    "        elif tuple(pixel) == (0, 255, 0):\n",
    "            print(f\"End index: {i}, {j}\")\n",
    "            end_index = (i,j)\n",
    "        elif tuple(pixel) == (0, 0, 255):\n",
    "            block_indices.append((i, j))\n",
    "        elif tuple(pixel) == (255, 255, 255):\n",
    "            free_indices.append((i,j))\n",
    "        else:\n",
    "            print(f\"Error. At {i}, {j} there is a pixel with value {pixel}\")"
   ]
  },
  {
   "cell_type": "code",
   "execution_count": 29,
   "metadata": {},
   "outputs": [
    {
     "ename": "IndexError",
     "evalue": "boolean index did not match indexed array along dimension 2; dimension is 1 but corresponding boolean dimension is 3",
     "output_type": "error",
     "traceback": [
      "\u001b[1;31m---------------------------------------------------------------------------\u001b[0m",
      "\u001b[1;31mIndexError\u001b[0m                                Traceback (most recent call last)",
      "\u001b[1;32m~\\AppData\\Local\\Temp/ipykernel_46680/3283715416.py\u001b[0m in \u001b[0;36m<module>\u001b[1;34m\u001b[0m\n\u001b[0;32m      1\u001b[0m \u001b[0mnew_image\u001b[0m \u001b[1;33m=\u001b[0m \u001b[0mnp\u001b[0m\u001b[1;33m.\u001b[0m\u001b[0mzeros\u001b[0m\u001b[1;33m(\u001b[0m\u001b[0mshape\u001b[0m\u001b[1;33m=\u001b[0m\u001b[1;33m(\u001b[0m\u001b[0mrgb_image\u001b[0m\u001b[1;33m.\u001b[0m\u001b[0mshape\u001b[0m\u001b[1;33m[\u001b[0m\u001b[1;36m0\u001b[0m\u001b[1;33m]\u001b[0m\u001b[1;33m,\u001b[0m \u001b[0mrgb_image\u001b[0m\u001b[1;33m.\u001b[0m\u001b[0mshape\u001b[0m\u001b[1;33m[\u001b[0m\u001b[1;36m1\u001b[0m\u001b[1;33m]\u001b[0m\u001b[1;33m,\u001b[0m \u001b[1;36m1\u001b[0m\u001b[1;33m)\u001b[0m\u001b[1;33m)\u001b[0m\u001b[1;33m\u001b[0m\u001b[1;33m\u001b[0m\u001b[0m\n\u001b[1;32m----> 2\u001b[1;33m \u001b[0mnew_image\u001b[0m\u001b[1;33m[\u001b[0m\u001b[0mrgb_image\u001b[0m \u001b[1;33m==\u001b[0m \u001b[1;33m(\u001b[0m\u001b[1;36m255\u001b[0m\u001b[1;33m,\u001b[0m \u001b[1;36m0\u001b[0m\u001b[1;33m,\u001b[0m \u001b[1;36m0\u001b[0m\u001b[1;33m)\u001b[0m\u001b[1;33m]\u001b[0m \u001b[1;33m=\u001b[0m \u001b[1;36m1\u001b[0m\u001b[1;33m\u001b[0m\u001b[1;33m\u001b[0m\u001b[0m\n\u001b[0m\u001b[0;32m      3\u001b[0m \u001b[0mnew_image\u001b[0m\u001b[1;33m[\u001b[0m\u001b[0mrgb_image\u001b[0m \u001b[1;33m==\u001b[0m \u001b[1;33m(\u001b[0m\u001b[1;36m0\u001b[0m\u001b[1;33m,\u001b[0m \u001b[1;36m255\u001b[0m\u001b[1;33m,\u001b[0m \u001b[1;36m0\u001b[0m\u001b[1;33m)\u001b[0m\u001b[1;33m]\u001b[0m \u001b[1;33m=\u001b[0m \u001b[1;36m2\u001b[0m\u001b[1;33m\u001b[0m\u001b[1;33m\u001b[0m\u001b[0m\n\u001b[0;32m      4\u001b[0m \u001b[0mnew_image\u001b[0m\u001b[1;33m[\u001b[0m\u001b[0mrgb_image\u001b[0m \u001b[1;33m==\u001b[0m \u001b[1;33m(\u001b[0m\u001b[1;36m0\u001b[0m\u001b[1;33m,\u001b[0m \u001b[1;36m0\u001b[0m\u001b[1;33m,\u001b[0m \u001b[1;36m255\u001b[0m\u001b[1;33m)\u001b[0m\u001b[1;33m]\u001b[0m \u001b[1;33m=\u001b[0m \u001b[1;36m3\u001b[0m\u001b[1;33m\u001b[0m\u001b[1;33m\u001b[0m\u001b[0m\n\u001b[0;32m      5\u001b[0m \u001b[0mnew_image\u001b[0m\u001b[1;33m[\u001b[0m\u001b[0mrgb_image\u001b[0m \u001b[1;33m==\u001b[0m \u001b[1;33m(\u001b[0m\u001b[1;36m255\u001b[0m\u001b[1;33m,\u001b[0m \u001b[1;36m255\u001b[0m\u001b[1;33m,\u001b[0m \u001b[1;36m255\u001b[0m\u001b[1;33m)\u001b[0m\u001b[1;33m]\u001b[0m \u001b[1;33m=\u001b[0m \u001b[1;36m0\u001b[0m\u001b[1;33m\u001b[0m\u001b[1;33m\u001b[0m\u001b[0m\n",
      "\u001b[1;31mIndexError\u001b[0m: boolean index did not match indexed array along dimension 2; dimension is 1 but corresponding boolean dimension is 3"
     ]
    }
   ],
   "source": [
    "new_image = np.zeros(shape=(rgb_image.shape[0], rgb_image.shape[1], 1))\n",
    "new_image[rgb_image == (255, 0, 0)] = 1\n",
    "new_image[rgb_image == (0, 255, 0)] = 2\n",
    "new_image[rgb_image == (0, 0, 255)] = 3\n",
    "new_image[rgb_image == (255, 255, 255)] = 0\n",
    "\n",
    "new_image = cv2.split(new_image)[0]\n",
    "plt.imshow(new_image)\n",
    "cv2.imwrite(\"C:\\\\Users\\\\mgagv\\\\OneDrive\\\\Documents\\\\APCS\\\\07 Trees\\\\Quad Tree\\\\maze1.pgm\", new_image)\n"
   ]
  }
 ],
 "metadata": {
  "interpreter": {
   "hash": "be7304682c3640e83a085155ed952eebf32a43164b2e5fda099a9ec9aab0d322"
  },
  "kernelspec": {
   "display_name": "Python 3.9.2 64-bit (system)",
   "language": "python",
   "name": "python3"
  },
  "language_info": {
   "codemirror_mode": {
    "name": "ipython",
    "version": 3
   },
   "file_extension": ".py",
   "mimetype": "text/x-python",
   "name": "python",
   "nbconvert_exporter": "python",
   "pygments_lexer": "ipython3",
   "version": "3.9.2"
  },
  "orig_nbformat": 4
 },
 "nbformat": 4,
 "nbformat_minor": 2
}
